{
 "cells": [
  {
   "cell_type": "code",
   "execution_count": 35,
   "metadata": {},
   "outputs": [],
   "source": [
    "import pandas as pd\n",
    "import numpy as np\n",
    "from pathlib import Path\n",
    "import matplotlib.pyplot as plt\n",
    "from sklearn.model_selection import train_test_split\n",
    "from sklearn.preprocessing import StandardScaler\n",
    "from sklearn.metrics import accuracy_score, r2_score\n",
    "import findspark\n",
    "findspark.init()\n",
    "from pyspark.sql import SparkSession\n",
    "import tensorflow as tf \n",
    "from tensorflow.keras import Sequential\n",
    "from tensorflow.keras.layers import Dense"
   ]
  },
  {
   "cell_type": "code",
   "execution_count": 2,
   "metadata": {},
   "outputs": [
    {
     "name": "stderr",
     "output_type": "stream",
     "text": [
      "24/03/06 19:19:56 WARN Utils: Your hostname, Aarons-MacBook-Pro.local resolves to a loopback address: 127.0.0.1; using 192.168.1.5 instead (on interface en0)\n",
      "24/03/06 19:19:56 WARN Utils: Set SPARK_LOCAL_IP if you need to bind to another address\n",
      "Setting default log level to \"WARN\".\n",
      "To adjust logging level use sc.setLogLevel(newLevel). For SparkR, use setLogLevel(newLevel).\n",
      "24/03/06 19:19:57 WARN NativeCodeLoader: Unable to load native-hadoop library for your platform... using builtin-java classes where applicable\n"
     ]
    }
   ],
   "source": [
    "spark = SparkSession.builder.appName(\"Read CSV\").getOrCreate()\n"
   ]
  },
  {
   "cell_type": "code",
   "execution_count": 3,
   "metadata": {},
   "outputs": [],
   "source": [
    "file_path = \"Credit_Score_Data/Credit.csv\"\n"
   ]
  },
  {
   "cell_type": "code",
   "execution_count": 4,
   "metadata": {},
   "outputs": [
    {
     "name": "stderr",
     "output_type": "stream",
     "text": [
      "24/03/06 19:20:09 WARN SparkStringUtils: Truncated the string representation of a plan since it was too large. This behavior can be adjusted by setting 'spark.sql.debug.maxToStringFields'.\n"
     ]
    },
    {
     "name": "stdout",
     "output_type": "stream",
     "text": [
      "+----+-----------+-----+---------------+----+------------+----------+-------------+---------------------+-----------------+---------------+-------------+-----------+--------------------+-------------------+----------------------+--------------------+--------------------+----------+----------------+------------------------+------------------+---------------------+-------------------+-----------------------+--------------------+------------------+------------+\n",
      "|  ID|Customer_ID|Month|           Name| Age|         SSN|Occupation|Annual_Income|Monthly_Inhand_Salary|Num_Bank_Accounts|Num_Credit_Card|Interest_Rate|Num_of_Loan|        Type_of_Loan|Delay_from_due_date|Num_of_Delayed_Payment|Changed_Credit_Limit|Num_Credit_Inquiries|Credit_Mix|Outstanding_Debt|Credit_Utilization_Ratio|Credit_History_Age|Payment_of_Min_Amount|Total_EMI_per_month|Amount_invested_monthly|   Payment_Behaviour|   Monthly_Balance|Credit_Score|\n",
      "+----+-----------+-----+---------------+----+------------+----------+-------------+---------------------+-----------------+---------------+-------------+-----------+--------------------+-------------------+----------------------+--------------------+--------------------+----------+----------------+------------------------+------------------+---------------------+-------------------+-----------------------+--------------------+------------------+------------+\n",
      "|5634|       3392|    1|  Aaron Maashoh|23.0|8.21000265E8| Scientist|     19114.12|   1824.8433333333328|              3.0|            4.0|          3.0|        4.0|Auto Loan, Credit...|                3.0|                   7.0|               11.27|                 4.0|      Good|          809.98|      26.822619623699016|             265.0|                   No|  49.57494921489417|     21.465380264657146|High_spent_Small_...|312.49408867943663|        Good|\n",
      "|5635|       3392|    2|  Aaron Maashoh|23.0|8.21000265E8| Scientist|     19114.12|   1824.8433333333328|              3.0|            4.0|          3.0|        4.0|Auto Loan, Credit...|                3.0|                   4.0|               11.27|                 4.0|      Good|          809.98|       31.94496005538421|             266.0|                   No|  49.57494921489417|     21.465380264657146|Low_spent_Large_v...|284.62916249607184|        Good|\n",
      "|5636|       3392|    3|  Aaron Maashoh|23.0|8.21000265E8| Scientist|     19114.12|   1824.8433333333328|              3.0|            4.0|          3.0|        4.0|Auto Loan, Credit...|                3.0|                   7.0|               11.27|                 4.0|      Good|          809.98|       28.60935202206993|             267.0|                   No|  49.57494921489417|     21.465380264657146|Low_spent_Medium_...| 331.2098628537912|        Good|\n",
      "|5637|       3392|    4|  Aaron Maashoh|23.0|8.21000265E8| Scientist|     19114.12|   1824.8433333333328|              3.0|            4.0|          3.0|        4.0|Auto Loan, Credit...|                5.0|                   4.0|                6.27|                 4.0|      Good|          809.98|       31.37786186958236|             268.0|                   No|  49.57494921489417|     21.465380264657146|Low_spent_Small_v...|223.45130972736783|        Good|\n",
      "|5638|       3392|    5|  Aaron Maashoh|23.0|8.21000265E8| Scientist|     19114.12|   1824.8433333333328|              3.0|            4.0|          3.0|        4.0|Auto Loan, Credit...|                6.0|                   4.0|               11.27|                 4.0|      Good|          809.98|      24.797346908844982|             269.0|                   No|  49.57494921489417|     21.465380264657146|High_spent_Medium...|341.48923103222177|        Good|\n",
      "|5639|       3392|    6|  Aaron Maashoh|23.0|8.21000265E8| Scientist|     19114.12|   1824.8433333333328|              3.0|            4.0|          3.0|        4.0|Auto Loan, Credit...|                8.0|                   4.0|                9.27|                 4.0|      Good|          809.98|       27.26225871052017|             270.0|                   No|  49.57494921489417|     21.465380264657146|High_spent_Medium...| 340.4792117872438|        Good|\n",
      "|5640|       3392|    7|  Aaron Maashoh|23.0|8.21000265E8| Scientist|     19114.12|   1824.8433333333328|              3.0|            4.0|          3.0|        4.0|Auto Loan, Credit...|                3.0|                   8.0|               11.27|                 4.0|      Good|          809.98|       22.53759303178384|             271.0|                   No|  49.57494921489417|     21.465380264657146|Low_spent_Small_v...| 244.5653167062043|        Good|\n",
      "|5641|       3392|    8|  Aaron Maashoh|23.0|8.21000265E8| Scientist|     19114.12|   1824.8433333333328|              3.0|            4.0|          3.0|        4.0|Auto Loan, Credit...|                3.0|                   6.0|               11.27|                 4.0|      Good|          809.98|       23.93379480196552|             272.0|                   No|  49.57494921489417|     21.465380264657146|High_spent_Medium...|358.12416760938714|    Standard|\n",
      "|5646|       8625|    1|Rick Rothackerj|28.0|   4075839.0|   Teacher|     34847.84|    3037.986666666666|              2.0|            4.0|          6.0|        1.0| Credit-Builder Loan|                3.0|                   4.0|                5.42|                 2.0|      Good|          605.03|       24.46403063758457|             319.0|                   No| 18.816214573128885|     39.684018417945296|Low_spent_Small_v...|470.69062692529184|    Standard|\n",
      "|5647|       8625|    2|Rick Rothackerj|28.0|   4075839.0|   Teacher|     34847.84|    3037.986666666666|              2.0|            4.0|          6.0|        1.0| Credit-Builder Loan|                7.0|                   1.0|                7.42|                 2.0|      Good|          605.03|      38.550848433956325|             320.0|                   No| 18.816214573128885|     39.684018417945296|High_spent_Large_...| 484.5912142650067|        Good|\n",
      "|5648|       8625|    3|Rick Rothackerj|28.0|   4075839.0|   Teacher|     34847.84|    3037.986666666666|              2.0|            4.0|          6.0|        1.0| Credit-Builder Loan|                3.0|                   1.0|                5.42|                 2.0|      Good|          605.03|       33.22495078663659|             321.0|                   No| 18.816214573128885|     39.684018417945296|High_spent_Large_...|466.46647639764313|    Standard|\n",
      "|5649|       8625|    4|Rick Rothackerj|28.0|   4075839.0|   Teacher|     34847.84|    3037.986666666666|              2.0|            4.0|          6.0|        1.0| Credit-Builder Loan|                3.0|                   3.0|                5.42|                 2.0|      Good|          605.03|       39.18265565546884|             322.0|                   No| 18.816214573128885|     39.684018417945296|Low_spent_Medium_...| 465.6762241330048|        Good|\n",
      "|5650|       8625|    5|Rick Rothackerj|28.0|   4075839.0|   Teacher|     34847.84|    3037.986666666666|              2.0|            4.0|          6.0|        1.0| Credit-Builder Loan|                3.0|                   1.0|                6.42|                 2.0|      Good|          605.03|       34.97789474709241|             323.0|                   No| 18.816214573128885|     39.684018417945296|Low_spent_Small_v...| 444.8670318506144|        Good|\n",
      "|5651|       8625|    6|Rick Rothackerj|28.0|   4075839.0|   Teacher|     34847.84|    3037.986666666666|              2.0|            4.0|          6.0|        1.0| Credit-Builder Loan|                3.0|                   0.0|                5.42|                 2.0|      Good|          605.03|       33.38101020065065|             324.0|                   No| 18.816214573128885|     39.684018417945296|High_spent_Large_...|  481.505261949182|        Good|\n",
      "|5652|       8625|    7|Rick Rothackerj|28.0|   4075839.0|   Teacher|     34847.84|    3037.986666666666|              2.0|            4.0|          6.0|        1.0| Credit-Builder Loan|                3.0|                   4.0|                5.42|                 2.0|      Good|          605.03|      31.131701611553307|             325.0|                   NM| 18.816214573128885|     39.684018417945296|High_spent_Medium...| 464.8806778859809|        Good|\n",
      "|5653|       8625|    8|Rick Rothackerj|28.0|   4075839.0|   Teacher|     34847.84|    3037.986666666666|              2.0|            4.0|          6.0|        1.0| Credit-Builder Loan|                3.0|                   4.0|                5.42|                 2.0|      Good|          605.03|      32.933856293622235|             326.0|                   No| 18.816214573128885|     39.684018417945296|Low_spent_Small_v...|356.07810855965045|        Good|\n",
      "|5658|      11708|    1|         Langep|34.0|4.86853974E8|  Engineer|    143162.64|             12187.22|              1.0|            5.0|          8.0|        3.0|Auto Loan, Auto L...|                5.0|                   8.0|                 7.1|                 3.0|      Good|         1303.01|      28.616734823006844|             213.0|                   No|  246.9923194537421|       168.413702679309|High_spent_Small_...|1043.3159778669492|        Good|\n",
      "|5659|      11708|    2|         Langep|34.0|4.86853974E8|  Engineer|    143162.64|             12187.22|              1.0|            5.0|          8.0|        3.0|Auto Loan, Auto L...|               13.0|                   6.0|                 7.1|                 3.0|      Good|         1303.01|       41.70257342393906|             214.0|                   No|  246.9923194537421|       168.413702679309|High_spent_Small_...| 998.8692967863226|        Good|\n",
      "|5660|      11708|    3|         Langep|34.0|4.86853974E8|  Engineer|    143162.64|             12187.22|              1.0|            5.0|          8.0|        3.0|Auto Loan, Auto L...|                8.0|                   7.0|                11.1|                 3.0|      Good|         1303.01|       26.51981539154649|             215.0|                   No|  246.9923194537421|       168.413702679309|High_spent_Small_...|  715.741367403555|        Good|\n",
      "|5661|      11708|    4|         Langep|34.0|4.86853974E8|  Engineer|    143162.64|             12187.22|              1.0|            5.0|          8.0|        3.0|Auto Loan, Auto L...|                8.0|                   5.0|                 9.1|                 3.0|      Good|         1303.01|       39.50164810812735|             216.0|                   No|  246.9923194537421|       168.413702679309|Low_spent_Medium_...| 426.5134106068658|        Good|\n",
      "+----+-----------+-----+---------------+----+------------+----------+-------------+---------------------+-----------------+---------------+-------------+-----------+--------------------+-------------------+----------------------+--------------------+--------------------+----------+----------------+------------------------+------------------+---------------------+-------------------+-----------------------+--------------------+------------------+------------+\n",
      "only showing top 20 rows\n",
      "\n"
     ]
    }
   ],
   "source": [
    "df = spark.read.csv(file_path, header=True, inferSchema=True, sep=\",\")\n",
    "\n",
    "df.show()"
   ]
  },
  {
   "cell_type": "code",
   "execution_count": 5,
   "metadata": {},
   "outputs": [
    {
     "name": "stderr",
     "output_type": "stream",
     "text": [
      "                                                                                \r"
     ]
    },
    {
     "data": {
      "text/html": [
       "<div>\n",
       "<style scoped>\n",
       "    .dataframe tbody tr th:only-of-type {\n",
       "        vertical-align: middle;\n",
       "    }\n",
       "\n",
       "    .dataframe tbody tr th {\n",
       "        vertical-align: top;\n",
       "    }\n",
       "\n",
       "    .dataframe thead th {\n",
       "        text-align: right;\n",
       "    }\n",
       "</style>\n",
       "<table border=\"1\" class=\"dataframe\">\n",
       "  <thead>\n",
       "    <tr style=\"text-align: right;\">\n",
       "      <th></th>\n",
       "      <th>ID</th>\n",
       "      <th>Customer_ID</th>\n",
       "      <th>Month</th>\n",
       "      <th>Name</th>\n",
       "      <th>Age</th>\n",
       "      <th>SSN</th>\n",
       "      <th>Occupation</th>\n",
       "      <th>Annual_Income</th>\n",
       "      <th>Monthly_Inhand_Salary</th>\n",
       "      <th>Num_Bank_Accounts</th>\n",
       "      <th>...</th>\n",
       "      <th>Credit_Mix</th>\n",
       "      <th>Outstanding_Debt</th>\n",
       "      <th>Credit_Utilization_Ratio</th>\n",
       "      <th>Credit_History_Age</th>\n",
       "      <th>Payment_of_Min_Amount</th>\n",
       "      <th>Total_EMI_per_month</th>\n",
       "      <th>Amount_invested_monthly</th>\n",
       "      <th>Payment_Behaviour</th>\n",
       "      <th>Monthly_Balance</th>\n",
       "      <th>Credit_Score</th>\n",
       "    </tr>\n",
       "  </thead>\n",
       "  <tbody>\n",
       "    <tr>\n",
       "      <th>0</th>\n",
       "      <td>5634</td>\n",
       "      <td>3392</td>\n",
       "      <td>1</td>\n",
       "      <td>Aaron Maashoh</td>\n",
       "      <td>23.0</td>\n",
       "      <td>821000265.0</td>\n",
       "      <td>Scientist</td>\n",
       "      <td>19114.12</td>\n",
       "      <td>1824.843333</td>\n",
       "      <td>3.0</td>\n",
       "      <td>...</td>\n",
       "      <td>Good</td>\n",
       "      <td>809.98</td>\n",
       "      <td>26.822620</td>\n",
       "      <td>265.0</td>\n",
       "      <td>No</td>\n",
       "      <td>49.574949</td>\n",
       "      <td>21.46538</td>\n",
       "      <td>High_spent_Small_value_payments</td>\n",
       "      <td>312.494089</td>\n",
       "      <td>Good</td>\n",
       "    </tr>\n",
       "    <tr>\n",
       "      <th>1</th>\n",
       "      <td>5635</td>\n",
       "      <td>3392</td>\n",
       "      <td>2</td>\n",
       "      <td>Aaron Maashoh</td>\n",
       "      <td>23.0</td>\n",
       "      <td>821000265.0</td>\n",
       "      <td>Scientist</td>\n",
       "      <td>19114.12</td>\n",
       "      <td>1824.843333</td>\n",
       "      <td>3.0</td>\n",
       "      <td>...</td>\n",
       "      <td>Good</td>\n",
       "      <td>809.98</td>\n",
       "      <td>31.944960</td>\n",
       "      <td>266.0</td>\n",
       "      <td>No</td>\n",
       "      <td>49.574949</td>\n",
       "      <td>21.46538</td>\n",
       "      <td>Low_spent_Large_value_payments</td>\n",
       "      <td>284.629162</td>\n",
       "      <td>Good</td>\n",
       "    </tr>\n",
       "    <tr>\n",
       "      <th>2</th>\n",
       "      <td>5636</td>\n",
       "      <td>3392</td>\n",
       "      <td>3</td>\n",
       "      <td>Aaron Maashoh</td>\n",
       "      <td>23.0</td>\n",
       "      <td>821000265.0</td>\n",
       "      <td>Scientist</td>\n",
       "      <td>19114.12</td>\n",
       "      <td>1824.843333</td>\n",
       "      <td>3.0</td>\n",
       "      <td>...</td>\n",
       "      <td>Good</td>\n",
       "      <td>809.98</td>\n",
       "      <td>28.609352</td>\n",
       "      <td>267.0</td>\n",
       "      <td>No</td>\n",
       "      <td>49.574949</td>\n",
       "      <td>21.46538</td>\n",
       "      <td>Low_spent_Medium_value_payments</td>\n",
       "      <td>331.209863</td>\n",
       "      <td>Good</td>\n",
       "    </tr>\n",
       "    <tr>\n",
       "      <th>3</th>\n",
       "      <td>5637</td>\n",
       "      <td>3392</td>\n",
       "      <td>4</td>\n",
       "      <td>Aaron Maashoh</td>\n",
       "      <td>23.0</td>\n",
       "      <td>821000265.0</td>\n",
       "      <td>Scientist</td>\n",
       "      <td>19114.12</td>\n",
       "      <td>1824.843333</td>\n",
       "      <td>3.0</td>\n",
       "      <td>...</td>\n",
       "      <td>Good</td>\n",
       "      <td>809.98</td>\n",
       "      <td>31.377862</td>\n",
       "      <td>268.0</td>\n",
       "      <td>No</td>\n",
       "      <td>49.574949</td>\n",
       "      <td>21.46538</td>\n",
       "      <td>Low_spent_Small_value_payments</td>\n",
       "      <td>223.451310</td>\n",
       "      <td>Good</td>\n",
       "    </tr>\n",
       "    <tr>\n",
       "      <th>4</th>\n",
       "      <td>5638</td>\n",
       "      <td>3392</td>\n",
       "      <td>5</td>\n",
       "      <td>Aaron Maashoh</td>\n",
       "      <td>23.0</td>\n",
       "      <td>821000265.0</td>\n",
       "      <td>Scientist</td>\n",
       "      <td>19114.12</td>\n",
       "      <td>1824.843333</td>\n",
       "      <td>3.0</td>\n",
       "      <td>...</td>\n",
       "      <td>Good</td>\n",
       "      <td>809.98</td>\n",
       "      <td>24.797347</td>\n",
       "      <td>269.0</td>\n",
       "      <td>No</td>\n",
       "      <td>49.574949</td>\n",
       "      <td>21.46538</td>\n",
       "      <td>High_spent_Medium_value_payments</td>\n",
       "      <td>341.489231</td>\n",
       "      <td>Good</td>\n",
       "    </tr>\n",
       "  </tbody>\n",
       "</table>\n",
       "<p>5 rows × 28 columns</p>\n",
       "</div>"
      ],
      "text/plain": [
       "     ID  Customer_ID  Month           Name   Age          SSN Occupation  \\\n",
       "0  5634         3392      1  Aaron Maashoh  23.0  821000265.0  Scientist   \n",
       "1  5635         3392      2  Aaron Maashoh  23.0  821000265.0  Scientist   \n",
       "2  5636         3392      3  Aaron Maashoh  23.0  821000265.0  Scientist   \n",
       "3  5637         3392      4  Aaron Maashoh  23.0  821000265.0  Scientist   \n",
       "4  5638         3392      5  Aaron Maashoh  23.0  821000265.0  Scientist   \n",
       "\n",
       "   Annual_Income  Monthly_Inhand_Salary  Num_Bank_Accounts  ...  Credit_Mix  \\\n",
       "0       19114.12            1824.843333                3.0  ...        Good   \n",
       "1       19114.12            1824.843333                3.0  ...        Good   \n",
       "2       19114.12            1824.843333                3.0  ...        Good   \n",
       "3       19114.12            1824.843333                3.0  ...        Good   \n",
       "4       19114.12            1824.843333                3.0  ...        Good   \n",
       "\n",
       "   Outstanding_Debt  Credit_Utilization_Ratio Credit_History_Age  \\\n",
       "0            809.98                 26.822620              265.0   \n",
       "1            809.98                 31.944960              266.0   \n",
       "2            809.98                 28.609352              267.0   \n",
       "3            809.98                 31.377862              268.0   \n",
       "4            809.98                 24.797347              269.0   \n",
       "\n",
       "   Payment_of_Min_Amount  Total_EMI_per_month  Amount_invested_monthly  \\\n",
       "0                     No            49.574949                 21.46538   \n",
       "1                     No            49.574949                 21.46538   \n",
       "2                     No            49.574949                 21.46538   \n",
       "3                     No            49.574949                 21.46538   \n",
       "4                     No            49.574949                 21.46538   \n",
       "\n",
       "                  Payment_Behaviour Monthly_Balance  Credit_Score  \n",
       "0   High_spent_Small_value_payments      312.494089          Good  \n",
       "1    Low_spent_Large_value_payments      284.629162          Good  \n",
       "2   Low_spent_Medium_value_payments      331.209863          Good  \n",
       "3    Low_spent_Small_value_payments      223.451310          Good  \n",
       "4  High_spent_Medium_value_payments      341.489231          Good  \n",
       "\n",
       "[5 rows x 28 columns]"
      ]
     },
     "execution_count": 5,
     "metadata": {},
     "output_type": "execute_result"
    }
   ],
   "source": [
    "credit_df= df.toPandas()\n",
    "\n",
    "credit_df.head()"
   ]
  },
  {
   "cell_type": "code",
   "execution_count": 6,
   "metadata": {},
   "outputs": [],
   "source": [
    "spark.stop()"
   ]
  },
  {
   "cell_type": "code",
   "execution_count": 7,
   "metadata": {},
   "outputs": [],
   "source": [
    "credit_df['Payment_of_Min_Amount'] = credit_df['Payment_of_Min_Amount']. apply(lambda x:1 if x== 'yes' else 0)"
   ]
  },
  {
   "cell_type": "code",
   "execution_count": 8,
   "metadata": {},
   "outputs": [],
   "source": [
    "non_numeric = ['Name','Occupation','Type_of_Loan','Credit_Mix','Payment_Behaviour','Credit_Score']"
   ]
  },
  {
   "cell_type": "code",
   "execution_count": 9,
   "metadata": {},
   "outputs": [],
   "source": [
    "df_numeric = credit_df.drop(columns= non_numeric)"
   ]
  },
  {
   "cell_type": "code",
   "execution_count": 10,
   "metadata": {},
   "outputs": [],
   "source": [
    "X = df_numeric\n",
    "y = pd.get_dummies(credit_df[\"Credit_Score\"])\n"
   ]
  },
  {
   "cell_type": "code",
   "execution_count": 11,
   "metadata": {},
   "outputs": [],
   "source": [
    "df_categorical= credit_df[non_numeric]"
   ]
  },
  {
   "cell_type": "code",
   "execution_count": 12,
   "metadata": {},
   "outputs": [],
   "source": [
    "df_categorical = pd.get_dummies(df_categorical)"
   ]
  },
  {
   "cell_type": "code",
   "execution_count": 13,
   "metadata": {},
   "outputs": [],
   "source": [
    "X= pd.concat([X, df_categorical], axis=1)"
   ]
  },
  {
   "cell_type": "code",
   "execution_count": 14,
   "metadata": {},
   "outputs": [],
   "source": [
    "X_train, X_test, y_train, y_test = train_test_split(X, y, test_size=0.2, random_state=42)"
   ]
  },
  {
   "cell_type": "code",
   "execution_count": 15,
   "metadata": {},
   "outputs": [],
   "source": [
    "scaler = StandardScaler()\n",
    "X_train_scaled = scaler.fit_transform(X_train)\n",
    "X_test_scaled = scaler.transform(X_test)"
   ]
  },
  {
   "cell_type": "code",
   "execution_count": 16,
   "metadata": {},
   "outputs": [],
   "source": [
    "model = Sequential()\n",
    "model.add(Dense(64, input_dim=X_train_scaled.shape[1], activation='relu'))\n",
    "model.add(Dense(32, activation='relu'))\n",
    "model.add(Dense(1, activation='linear'))"
   ]
  },
  {
   "cell_type": "code",
   "execution_count": 31,
   "metadata": {},
   "outputs": [
    {
     "name": "stdout",
     "output_type": "stream",
     "text": [
      "<class 'pandas.core.frame.DataFrame'>\n",
      "Index: 20000 entries, 75721 to 42410\n",
      "Columns: 16438 entries, ID to Credit_Score_Standard\n",
      "dtypes: bool(16416), float64(18), int32(3), int64(1)\n",
      "memory usage: 316.4 MB\n"
     ]
    }
   ],
   "source": [
    "X_test.info()\n"
   ]
  },
  {
   "cell_type": "code",
   "execution_count": 17,
   "metadata": {},
   "outputs": [
    {
     "name": "stdout",
     "output_type": "stream",
     "text": [
      "<class 'pandas.core.frame.DataFrame'>\n",
      "Index: 80000 entries, 75220 to 15795\n",
      "Data columns (total 3 columns):\n",
      " #   Column    Non-Null Count  Dtype\n",
      "---  ------    --------------  -----\n",
      " 0   Good      80000 non-null  bool \n",
      " 1   Poor      80000 non-null  bool \n",
      " 2   Standard  80000 non-null  bool \n",
      "dtypes: bool(3)\n",
      "memory usage: 859.4 KB\n"
     ]
    }
   ],
   "source": [
    "y_train.info()"
   ]
  },
  {
   "cell_type": "code",
   "execution_count": 18,
   "metadata": {},
   "outputs": [],
   "source": [
    "# Compile the model\n",
    "model.compile(loss='binary_crossentropy', optimizer='adam', metrics=['accuracy'])"
   ]
  },
  {
   "cell_type": "code",
   "execution_count": 19,
   "metadata": {},
   "outputs": [
    {
     "name": "stdout",
     "output_type": "stream",
     "text": [
      "Epoch 1/25\n",
      "2000/2000 [==============================] - 9s 4ms/step - loss: 3.8964 - accuracy: 0.5953 - val_loss: 3.9942 - val_accuracy: 0.5920\n",
      "Epoch 2/25\n",
      "2000/2000 [==============================] - 5s 2ms/step - loss: 3.9546 - accuracy: 0.5842 - val_loss: 3.8154 - val_accuracy: 0.5967\n",
      "Epoch 3/25\n",
      "2000/2000 [==============================] - 5s 2ms/step - loss: 3.7617 - accuracy: 0.6121 - val_loss: 4.7697 - val_accuracy: 0.6615\n",
      "Epoch 4/25\n",
      "2000/2000 [==============================] - 5s 3ms/step - loss: 3.6446 - accuracy: 0.6365 - val_loss: 3.3473 - val_accuracy: 0.6499\n",
      "Epoch 5/25\n",
      "2000/2000 [==============================] - 5s 3ms/step - loss: 3.2972 - accuracy: 0.6366 - val_loss: 3.2671 - val_accuracy: 0.6553\n",
      "Epoch 6/25\n",
      "2000/2000 [==============================] - 5s 3ms/step - loss: 3.1498 - accuracy: 0.6609 - val_loss: 3.2354 - val_accuracy: 0.6643\n",
      "Epoch 7/25\n",
      "2000/2000 [==============================] - 5s 3ms/step - loss: 3.1235 - accuracy: 0.6519 - val_loss: 3.2240 - val_accuracy: 0.6369\n",
      "Epoch 8/25\n",
      "2000/2000 [==============================] - 5s 3ms/step - loss: 3.3085 - accuracy: 0.6126 - val_loss: 3.1777 - val_accuracy: 0.6588\n",
      "Epoch 9/25\n",
      "2000/2000 [==============================] - 5s 3ms/step - loss: 3.0573 - accuracy: 0.6570 - val_loss: 3.0965 - val_accuracy: 0.6593\n",
      "Epoch 10/25\n",
      "2000/2000 [==============================] - 5s 3ms/step - loss: 3.0070 - accuracy: 0.6538 - val_loss: 3.0906 - val_accuracy: 0.6545\n",
      "Epoch 11/25\n",
      "2000/2000 [==============================] - 5s 3ms/step - loss: 3.0322 - accuracy: 0.6472 - val_loss: 3.0244 - val_accuracy: 0.6610\n",
      "Epoch 12/25\n",
      "2000/2000 [==============================] - 5s 3ms/step - loss: 3.1748 - accuracy: 0.6340 - val_loss: 3.0747 - val_accuracy: 0.6617\n",
      "Epoch 13/25\n",
      "2000/2000 [==============================] - 5s 3ms/step - loss: 2.9583 - accuracy: 0.6587 - val_loss: 3.0014 - val_accuracy: 0.6587\n",
      "Epoch 14/25\n",
      "2000/2000 [==============================] - 5s 3ms/step - loss: 2.8018 - accuracy: 0.6584 - val_loss: 2.7421 - val_accuracy: 0.6637\n",
      "Epoch 15/25\n",
      "2000/2000 [==============================] - 6s 3ms/step - loss: 2.4080 - accuracy: 0.6598 - val_loss: 2.3639 - val_accuracy: 0.6651\n",
      "Epoch 16/25\n",
      "2000/2000 [==============================] - 5s 3ms/step - loss: 2.4814 - accuracy: 0.6431 - val_loss: 3.1480 - val_accuracy: 0.5769\n",
      "Epoch 17/25\n",
      "2000/2000 [==============================] - 5s 3ms/step - loss: 2.2289 - accuracy: 0.6613 - val_loss: 2.3384 - val_accuracy: 0.6638\n",
      "Epoch 18/25\n",
      "2000/2000 [==============================] - 6s 3ms/step - loss: 2.1982 - accuracy: 0.6650 - val_loss: 2.3311 - val_accuracy: 0.6660\n",
      "Epoch 19/25\n",
      "2000/2000 [==============================] - 6s 3ms/step - loss: 2.1876 - accuracy: 0.6660 - val_loss: 2.3257 - val_accuracy: 0.6662\n",
      "Epoch 20/25\n",
      "2000/2000 [==============================] - 6s 3ms/step - loss: 2.1835 - accuracy: 0.6663 - val_loss: 2.3256 - val_accuracy: 0.6662\n",
      "Epoch 21/25\n",
      "2000/2000 [==============================] - 6s 3ms/step - loss: 2.1835 - accuracy: 0.6663 - val_loss: 2.3256 - val_accuracy: 0.6662\n",
      "Epoch 22/25\n",
      "2000/2000 [==============================] - 6s 3ms/step - loss: 1.8197 - accuracy: 0.6645 - val_loss: 0.6430 - val_accuracy: 0.6664\n",
      "Epoch 23/25\n",
      "2000/2000 [==============================] - 5s 3ms/step - loss: 0.6430 - accuracy: 0.6665 - val_loss: 0.6414 - val_accuracy: 0.6665\n",
      "Epoch 24/25\n",
      "2000/2000 [==============================] - 5s 3ms/step - loss: 0.6424 - accuracy: 0.6666 - val_loss: 0.6413 - val_accuracy: 0.6665\n",
      "Epoch 25/25\n",
      "2000/2000 [==============================] - 5s 3ms/step - loss: 0.6424 - accuracy: 0.6666 - val_loss: 0.6413 - val_accuracy: 0.6665\n"
     ]
    },
    {
     "data": {
      "text/plain": [
       "<keras.src.callbacks.History at 0x2b0d5a110>"
      ]
     },
     "execution_count": 19,
     "metadata": {},
     "output_type": "execute_result"
    }
   ],
   "source": [
    "# Train the model\n",
    "model.fit(X_train_scaled, y_train, epochs=25, batch_size=32, validation_split=0.2, verbose=1)\n"
   ]
  },
  {
   "cell_type": "code",
   "execution_count": 37,
   "metadata": {},
   "outputs": [
    {
     "name": "stdout",
     "output_type": "stream",
     "text": [
      "625/625 [==============================] - 1s 1ms/step - loss: 0.6405 - accuracy: 0.6666\n",
      "Accuracy =  0.6665639877319336\n"
     ]
    }
   ],
   "source": [
    "# Evaluate the model\n",
    "model_loss, model_accuracy = model.evaluate(X_test_scaled, y_test)\n",
    "print(\"Accuracy = \", model_accuracy)"
   ]
  },
  {
   "cell_type": "code",
   "execution_count": 32,
   "metadata": {},
   "outputs": [],
   "source": [
    "# Convert X_test to float\n",
    "X_test = X_test.astype(float)"
   ]
  },
  {
   "cell_type": "code",
   "execution_count": 33,
   "metadata": {},
   "outputs": [
    {
     "name": "stdout",
     "output_type": "stream",
     "text": [
      "625/625 [==============================] - 1s 1ms/step\n"
     ]
    }
   ],
   "source": [
    "# Make predictions\n",
    "y_pred = model.predict(X_test)"
   ]
  },
  {
   "cell_type": "code",
   "execution_count": null,
   "metadata": {},
   "outputs": [],
   "source": []
  },
  {
   "cell_type": "code",
   "execution_count": 36,
   "metadata": {},
   "outputs": [
    {
     "ename": "ValueError",
     "evalue": "Classification metrics can't handle a mix of multilabel-indicator and continuous targets",
     "output_type": "error",
     "traceback": [
      "\u001b[0;31m---------------------------------------------------------------------------\u001b[0m",
      "\u001b[0;31mValueError\u001b[0m                                Traceback (most recent call last)",
      "Cell \u001b[0;32mIn[36], line 1\u001b[0m\n\u001b[0;32m----> 1\u001b[0m accuracy \u001b[38;5;241m=\u001b[39m \u001b[43maccuracy_score\u001b[49m\u001b[43m(\u001b[49m\u001b[43my_test\u001b[49m\u001b[43m,\u001b[49m\u001b[43m \u001b[49m\u001b[43my_pred\u001b[49m\u001b[43m)\u001b[49m\n",
      "File \u001b[0;32m~/anaconda3/envs/dev/lib/python3.11/site-packages/sklearn/utils/_param_validation.py:213\u001b[0m, in \u001b[0;36mvalidate_params.<locals>.decorator.<locals>.wrapper\u001b[0;34m(*args, **kwargs)\u001b[0m\n\u001b[1;32m    207\u001b[0m \u001b[38;5;28;01mtry\u001b[39;00m:\n\u001b[1;32m    208\u001b[0m     \u001b[38;5;28;01mwith\u001b[39;00m config_context(\n\u001b[1;32m    209\u001b[0m         skip_parameter_validation\u001b[38;5;241m=\u001b[39m(\n\u001b[1;32m    210\u001b[0m             prefer_skip_nested_validation \u001b[38;5;129;01mor\u001b[39;00m global_skip_validation\n\u001b[1;32m    211\u001b[0m         )\n\u001b[1;32m    212\u001b[0m     ):\n\u001b[0;32m--> 213\u001b[0m         \u001b[38;5;28;01mreturn\u001b[39;00m \u001b[43mfunc\u001b[49m\u001b[43m(\u001b[49m\u001b[38;5;241;43m*\u001b[39;49m\u001b[43margs\u001b[49m\u001b[43m,\u001b[49m\u001b[43m \u001b[49m\u001b[38;5;241;43m*\u001b[39;49m\u001b[38;5;241;43m*\u001b[39;49m\u001b[43mkwargs\u001b[49m\u001b[43m)\u001b[49m\n\u001b[1;32m    214\u001b[0m \u001b[38;5;28;01mexcept\u001b[39;00m InvalidParameterError \u001b[38;5;28;01mas\u001b[39;00m e:\n\u001b[1;32m    215\u001b[0m     \u001b[38;5;66;03m# When the function is just a wrapper around an estimator, we allow\u001b[39;00m\n\u001b[1;32m    216\u001b[0m     \u001b[38;5;66;03m# the function to delegate validation to the estimator, but we replace\u001b[39;00m\n\u001b[1;32m    217\u001b[0m     \u001b[38;5;66;03m# the name of the estimator by the name of the function in the error\u001b[39;00m\n\u001b[1;32m    218\u001b[0m     \u001b[38;5;66;03m# message to avoid confusion.\u001b[39;00m\n\u001b[1;32m    219\u001b[0m     msg \u001b[38;5;241m=\u001b[39m re\u001b[38;5;241m.\u001b[39msub(\n\u001b[1;32m    220\u001b[0m         \u001b[38;5;124mr\u001b[39m\u001b[38;5;124m\"\u001b[39m\u001b[38;5;124mparameter of \u001b[39m\u001b[38;5;124m\\\u001b[39m\u001b[38;5;124mw+ must be\u001b[39m\u001b[38;5;124m\"\u001b[39m,\n\u001b[1;32m    221\u001b[0m         \u001b[38;5;124mf\u001b[39m\u001b[38;5;124m\"\u001b[39m\u001b[38;5;124mparameter of \u001b[39m\u001b[38;5;132;01m{\u001b[39;00mfunc\u001b[38;5;241m.\u001b[39m\u001b[38;5;18m__qualname__\u001b[39m\u001b[38;5;132;01m}\u001b[39;00m\u001b[38;5;124m must be\u001b[39m\u001b[38;5;124m\"\u001b[39m,\n\u001b[1;32m    222\u001b[0m         \u001b[38;5;28mstr\u001b[39m(e),\n\u001b[1;32m    223\u001b[0m     )\n",
      "File \u001b[0;32m~/anaconda3/envs/dev/lib/python3.11/site-packages/sklearn/metrics/_classification.py:213\u001b[0m, in \u001b[0;36maccuracy_score\u001b[0;34m(y_true, y_pred, normalize, sample_weight)\u001b[0m\n\u001b[1;32m    147\u001b[0m \u001b[38;5;250m\u001b[39m\u001b[38;5;124;03m\"\"\"Accuracy classification score.\u001b[39;00m\n\u001b[1;32m    148\u001b[0m \n\u001b[1;32m    149\u001b[0m \u001b[38;5;124;03mIn multilabel classification, this function computes subset accuracy:\u001b[39;00m\n\u001b[0;32m   (...)\u001b[0m\n\u001b[1;32m    209\u001b[0m \u001b[38;5;124;03m0.5\u001b[39;00m\n\u001b[1;32m    210\u001b[0m \u001b[38;5;124;03m\"\"\"\u001b[39;00m\n\u001b[1;32m    212\u001b[0m \u001b[38;5;66;03m# Compute accuracy for each possible representation\u001b[39;00m\n\u001b[0;32m--> 213\u001b[0m y_type, y_true, y_pred \u001b[38;5;241m=\u001b[39m \u001b[43m_check_targets\u001b[49m\u001b[43m(\u001b[49m\u001b[43my_true\u001b[49m\u001b[43m,\u001b[49m\u001b[43m \u001b[49m\u001b[43my_pred\u001b[49m\u001b[43m)\u001b[49m\n\u001b[1;32m    214\u001b[0m check_consistent_length(y_true, y_pred, sample_weight)\n\u001b[1;32m    215\u001b[0m \u001b[38;5;28;01mif\u001b[39;00m y_type\u001b[38;5;241m.\u001b[39mstartswith(\u001b[38;5;124m\"\u001b[39m\u001b[38;5;124mmultilabel\u001b[39m\u001b[38;5;124m\"\u001b[39m):\n",
      "File \u001b[0;32m~/anaconda3/envs/dev/lib/python3.11/site-packages/sklearn/metrics/_classification.py:94\u001b[0m, in \u001b[0;36m_check_targets\u001b[0;34m(y_true, y_pred)\u001b[0m\n\u001b[1;32m     91\u001b[0m     y_type \u001b[38;5;241m=\u001b[39m {\u001b[38;5;124m\"\u001b[39m\u001b[38;5;124mmulticlass\u001b[39m\u001b[38;5;124m\"\u001b[39m}\n\u001b[1;32m     93\u001b[0m \u001b[38;5;28;01mif\u001b[39;00m \u001b[38;5;28mlen\u001b[39m(y_type) \u001b[38;5;241m>\u001b[39m \u001b[38;5;241m1\u001b[39m:\n\u001b[0;32m---> 94\u001b[0m     \u001b[38;5;28;01mraise\u001b[39;00m \u001b[38;5;167;01mValueError\u001b[39;00m(\n\u001b[1;32m     95\u001b[0m         \u001b[38;5;124m\"\u001b[39m\u001b[38;5;124mClassification metrics can\u001b[39m\u001b[38;5;124m'\u001b[39m\u001b[38;5;124mt handle a mix of \u001b[39m\u001b[38;5;132;01m{0}\u001b[39;00m\u001b[38;5;124m and \u001b[39m\u001b[38;5;132;01m{1}\u001b[39;00m\u001b[38;5;124m targets\u001b[39m\u001b[38;5;124m\"\u001b[39m\u001b[38;5;241m.\u001b[39mformat(\n\u001b[1;32m     96\u001b[0m             type_true, type_pred\n\u001b[1;32m     97\u001b[0m         )\n\u001b[1;32m     98\u001b[0m     )\n\u001b[1;32m    100\u001b[0m \u001b[38;5;66;03m# We can't have more than one value on y_type => The set is no more needed\u001b[39;00m\n\u001b[1;32m    101\u001b[0m y_type \u001b[38;5;241m=\u001b[39m y_type\u001b[38;5;241m.\u001b[39mpop()\n",
      "\u001b[0;31mValueError\u001b[0m: Classification metrics can't handle a mix of multilabel-indicator and continuous targets"
     ]
    }
   ],
   "source": [
    "accuracy = accuracy_score(y_test, y_pred)"
   ]
  },
  {
   "cell_type": "code",
   "execution_count": null,
   "metadata": {},
   "outputs": [],
   "source": []
  },
  {
   "cell_type": "code",
   "execution_count": null,
   "metadata": {},
   "outputs": [],
   "source": []
  },
  {
   "cell_type": "code",
   "execution_count": null,
   "metadata": {},
   "outputs": [],
   "source": []
  }
 ],
 "metadata": {
  "kernelspec": {
   "display_name": "dev",
   "language": "python",
   "name": "python3"
  },
  "language_info": {
   "codemirror_mode": {
    "name": "ipython",
    "version": 3
   },
   "file_extension": ".py",
   "mimetype": "text/x-python",
   "name": "python",
   "nbconvert_exporter": "python",
   "pygments_lexer": "ipython3",
   "version": "3.11.7"
  }
 },
 "nbformat": 4,
 "nbformat_minor": 2
}
