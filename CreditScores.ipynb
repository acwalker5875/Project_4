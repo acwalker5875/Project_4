{
 "cells": [
  {
   "cell_type": "code",
   "execution_count": 1,
   "metadata": {},
   "outputs": [
    {
     "name": "stderr",
     "output_type": "stream",
     "text": [
      "/var/folders/_l/b2ndqf2j6h5gcz0gbj9zfl4r0000gn/T/ipykernel_77993/2341801833.py:2: DeprecationWarning: \n",
      "Pyarrow will become a required dependency of pandas in the next major release of pandas (pandas 3.0),\n",
      "(to allow more performant data types, such as the Arrow string type, and better interoperability with other libraries)\n",
      "but was not found to be installed on your system.\n",
      "If this would cause problems for you,\n",
      "please provide us feedback at https://github.com/pandas-dev/pandas/issues/54466\n",
      "        \n",
      "  import pandas as pd\n"
     ]
    }
   ],
   "source": [
    "#Import Dependencies\n",
    "import pandas as pd\n",
    "import numpy as np\n",
    "from sklearn.model_selection import train_test_split\n",
    "from sklearn.preprocessing import StandardScaler\n",
    "from sklearn.metrics import accuracy_score\n",
    "import findspark\n",
    "findspark.init()\n",
    "from pyspark.sql import SparkSession\n",
    "from tensorflow.keras import Sequential\n",
    "from tensorflow.keras.layers import Dense\n",
    "from keras import regularizers"
   ]
  },
  {
   "cell_type": "code",
   "execution_count": 2,
   "metadata": {},
   "outputs": [
    {
     "name": "stderr",
     "output_type": "stream",
     "text": [
      "24/03/11 18:37:54 WARN Utils: Your hostname, Aarons-MacBook-Pro.local resolves to a loopback address: 127.0.0.1; using 192.168.1.5 instead (on interface en0)\n",
      "24/03/11 18:37:54 WARN Utils: Set SPARK_LOCAL_IP if you need to bind to another address\n",
      "Setting default log level to \"WARN\".\n",
      "To adjust logging level use sc.setLogLevel(newLevel). For SparkR, use setLogLevel(newLevel).\n",
      "24/03/11 18:37:55 WARN NativeCodeLoader: Unable to load native-hadoop library for your platform... using builtin-java classes where applicable\n"
     ]
    }
   ],
   "source": [
    "#Create Spark Session\n",
    "spark = SparkSession.builder.appName(\"Read CSV\").getOrCreate()\n"
   ]
  },
  {
   "cell_type": "code",
   "execution_count": 3,
   "metadata": {},
   "outputs": [
    {
     "name": "stderr",
     "output_type": "stream",
     "text": [
      "                                                                                \r"
     ]
    },
    {
     "name": "stdout",
     "output_type": "stream",
     "text": [
      "+----------+-------------+---------------------+-----------------+-----------------+----------+---------+-------------+-----------+-------------------+-------------------------+--------------------------+\n",
      "|person_age|person_income|person_home_ownership|person_emp_length|      loan_intent|loan_grade|loan_amnt|loan_int_rate|loan_status|loan_percent_income|cb_person_default_on_file|cb_person_cred_hist_length|\n",
      "+----------+-------------+---------------------+-----------------+-----------------+----------+---------+-------------+-----------+-------------------+-------------------------+--------------------------+\n",
      "|        22|        59000|                 RENT|            123.0|         PERSONAL|         D|    35000|        16.02|          1|               0.59|                        Y|                         3|\n",
      "|        21|         9600|                  OWN|              5.0|        EDUCATION|         B|     1000|        11.14|          0|                0.1|                        N|                         2|\n",
      "|        25|         9600|             MORTGAGE|              1.0|          MEDICAL|         C|     5500|        12.87|          1|               0.57|                        N|                         3|\n",
      "|        23|        65500|                 RENT|              4.0|          MEDICAL|         C|    35000|        15.23|          1|               0.53|                        N|                         2|\n",
      "|        24|        54400|                 RENT|              8.0|          MEDICAL|         C|    35000|        14.27|          1|               0.55|                        Y|                         4|\n",
      "|        21|         9900|                  OWN|              2.0|          VENTURE|         A|     2500|         7.14|          1|               0.25|                        N|                         2|\n",
      "|        26|        77100|                 RENT|              8.0|        EDUCATION|         B|    35000|        12.42|          1|               0.45|                        N|                         3|\n",
      "|        24|        78956|                 RENT|              5.0|          MEDICAL|         B|    35000|        11.11|          1|               0.44|                        N|                         4|\n",
      "|        24|        83000|                 RENT|              8.0|         PERSONAL|         A|    35000|          8.9|          1|               0.42|                        N|                         2|\n",
      "|        21|        10000|                  OWN|              6.0|          VENTURE|         D|     1600|        14.74|          1|               0.16|                        N|                         3|\n",
      "|        22|        85000|                 RENT|              6.0|          VENTURE|         B|    35000|        10.37|          1|               0.41|                        N|                         4|\n",
      "|        21|        10000|                  OWN|              2.0|  HOMEIMPROVEMENT|         A|     4500|         8.63|          1|               0.45|                        N|                         2|\n",
      "|        23|        95000|                 RENT|              2.0|          VENTURE|         A|    35000|          7.9|          1|               0.37|                        N|                         2|\n",
      "|        26|       108160|                 RENT|              4.0|        EDUCATION|         E|    35000|        18.39|          1|               0.32|                        N|                         4|\n",
      "|        23|       115000|                 RENT|              2.0|        EDUCATION|         A|    35000|          7.9|          0|                0.3|                        N|                         4|\n",
      "|        23|       500000|             MORTGAGE|              7.0|DEBTCONSOLIDATION|         B|    30000|        10.65|          0|               0.06|                        N|                         3|\n",
      "|        23|       120000|                 RENT|              0.0|        EDUCATION|         A|    35000|          7.9|          0|               0.29|                        N|                         4|\n",
      "|        23|        92111|                 RENT|              7.0|          MEDICAL|         F|    35000|        20.25|          1|               0.32|                        N|                         4|\n",
      "|        23|       113000|                 RENT|              8.0|DEBTCONSOLIDATION|         D|    35000|        18.25|          1|               0.31|                        N|                         4|\n",
      "|        24|        10800|             MORTGAGE|              8.0|        EDUCATION|         B|     1750|        10.99|          1|               0.16|                        N|                         2|\n",
      "+----------+-------------+---------------------+-----------------+-----------------+----------+---------+-------------+-----------+-------------------+-------------------------+--------------------------+\n",
      "only showing top 20 rows\n",
      "\n"
     ]
    }
   ],
   "source": [
    "#Read in CSV\n",
    "\n",
    "file_path = \"Credit_Score_Data/credit_risk.csv\"\n",
    "\n",
    "df = spark.read.csv(file_path, header=True, inferSchema=True, sep=\",\")\n",
    "\n",
    "df.show()"
   ]
  },
  {
   "cell_type": "code",
   "execution_count": 4,
   "metadata": {},
   "outputs": [
    {
     "name": "stderr",
     "output_type": "stream",
     "text": [
      "                                                                                \r"
     ]
    },
    {
     "data": {
      "text/html": [
       "<div>\n",
       "<style scoped>\n",
       "    .dataframe tbody tr th:only-of-type {\n",
       "        vertical-align: middle;\n",
       "    }\n",
       "\n",
       "    .dataframe tbody tr th {\n",
       "        vertical-align: top;\n",
       "    }\n",
       "\n",
       "    .dataframe thead th {\n",
       "        text-align: right;\n",
       "    }\n",
       "</style>\n",
       "<table border=\"1\" class=\"dataframe\">\n",
       "  <thead>\n",
       "    <tr style=\"text-align: right;\">\n",
       "      <th></th>\n",
       "      <th>person_age</th>\n",
       "      <th>person_income</th>\n",
       "      <th>person_home_ownership</th>\n",
       "      <th>person_emp_length</th>\n",
       "      <th>loan_intent</th>\n",
       "      <th>loan_grade</th>\n",
       "      <th>loan_amnt</th>\n",
       "      <th>loan_int_rate</th>\n",
       "      <th>loan_status</th>\n",
       "      <th>loan_percent_income</th>\n",
       "      <th>cb_person_default_on_file</th>\n",
       "      <th>cb_person_cred_hist_length</th>\n",
       "    </tr>\n",
       "  </thead>\n",
       "  <tbody>\n",
       "    <tr>\n",
       "      <th>0</th>\n",
       "      <td>22</td>\n",
       "      <td>59000</td>\n",
       "      <td>RENT</td>\n",
       "      <td>123.0</td>\n",
       "      <td>PERSONAL</td>\n",
       "      <td>D</td>\n",
       "      <td>35000</td>\n",
       "      <td>16.02</td>\n",
       "      <td>1</td>\n",
       "      <td>0.59</td>\n",
       "      <td>Y</td>\n",
       "      <td>3</td>\n",
       "    </tr>\n",
       "    <tr>\n",
       "      <th>1</th>\n",
       "      <td>21</td>\n",
       "      <td>9600</td>\n",
       "      <td>OWN</td>\n",
       "      <td>5.0</td>\n",
       "      <td>EDUCATION</td>\n",
       "      <td>B</td>\n",
       "      <td>1000</td>\n",
       "      <td>11.14</td>\n",
       "      <td>0</td>\n",
       "      <td>0.10</td>\n",
       "      <td>N</td>\n",
       "      <td>2</td>\n",
       "    </tr>\n",
       "    <tr>\n",
       "      <th>2</th>\n",
       "      <td>25</td>\n",
       "      <td>9600</td>\n",
       "      <td>MORTGAGE</td>\n",
       "      <td>1.0</td>\n",
       "      <td>MEDICAL</td>\n",
       "      <td>C</td>\n",
       "      <td>5500</td>\n",
       "      <td>12.87</td>\n",
       "      <td>1</td>\n",
       "      <td>0.57</td>\n",
       "      <td>N</td>\n",
       "      <td>3</td>\n",
       "    </tr>\n",
       "    <tr>\n",
       "      <th>3</th>\n",
       "      <td>23</td>\n",
       "      <td>65500</td>\n",
       "      <td>RENT</td>\n",
       "      <td>4.0</td>\n",
       "      <td>MEDICAL</td>\n",
       "      <td>C</td>\n",
       "      <td>35000</td>\n",
       "      <td>15.23</td>\n",
       "      <td>1</td>\n",
       "      <td>0.53</td>\n",
       "      <td>N</td>\n",
       "      <td>2</td>\n",
       "    </tr>\n",
       "    <tr>\n",
       "      <th>4</th>\n",
       "      <td>24</td>\n",
       "      <td>54400</td>\n",
       "      <td>RENT</td>\n",
       "      <td>8.0</td>\n",
       "      <td>MEDICAL</td>\n",
       "      <td>C</td>\n",
       "      <td>35000</td>\n",
       "      <td>14.27</td>\n",
       "      <td>1</td>\n",
       "      <td>0.55</td>\n",
       "      <td>Y</td>\n",
       "      <td>4</td>\n",
       "    </tr>\n",
       "  </tbody>\n",
       "</table>\n",
       "</div>"
      ],
      "text/plain": [
       "   person_age  person_income person_home_ownership  person_emp_length  \\\n",
       "0          22          59000                  RENT              123.0   \n",
       "1          21           9600                   OWN                5.0   \n",
       "2          25           9600              MORTGAGE                1.0   \n",
       "3          23          65500                  RENT                4.0   \n",
       "4          24          54400                  RENT                8.0   \n",
       "\n",
       "  loan_intent loan_grade  loan_amnt  loan_int_rate  loan_status  \\\n",
       "0    PERSONAL          D      35000          16.02            1   \n",
       "1   EDUCATION          B       1000          11.14            0   \n",
       "2     MEDICAL          C       5500          12.87            1   \n",
       "3     MEDICAL          C      35000          15.23            1   \n",
       "4     MEDICAL          C      35000          14.27            1   \n",
       "\n",
       "   loan_percent_income cb_person_default_on_file  cb_person_cred_hist_length  \n",
       "0                 0.59                         Y                           3  \n",
       "1                 0.10                         N                           2  \n",
       "2                 0.57                         N                           3  \n",
       "3                 0.53                         N                           2  \n",
       "4                 0.55                         Y                           4  "
      ]
     },
     "execution_count": 4,
     "metadata": {},
     "output_type": "execute_result"
    }
   ],
   "source": [
    "#Convert Spark DF to Pandas\n",
    "credit_df= df.toPandas()\n",
    "\n",
    "credit_df.head()"
   ]
  },
  {
   "cell_type": "code",
   "execution_count": 5,
   "metadata": {},
   "outputs": [],
   "source": [
    "#End Spark Session\n",
    "spark.stop()"
   ]
  },
  {
   "cell_type": "code",
   "execution_count": 6,
   "metadata": {},
   "outputs": [],
   "source": [
    "credit_df.dropna(inplace=True)"
   ]
  },
  {
   "cell_type": "code",
   "execution_count": 7,
   "metadata": {},
   "outputs": [
    {
     "name": "stdout",
     "output_type": "stream",
     "text": [
      "<class 'pandas.core.frame.DataFrame'>\n",
      "Index: 28638 entries, 0 to 32580\n",
      "Data columns (total 12 columns):\n",
      " #   Column                      Non-Null Count  Dtype  \n",
      "---  ------                      --------------  -----  \n",
      " 0   person_age                  28638 non-null  int32  \n",
      " 1   person_income               28638 non-null  int32  \n",
      " 2   person_home_ownership       28638 non-null  object \n",
      " 3   person_emp_length           28638 non-null  float64\n",
      " 4   loan_intent                 28638 non-null  object \n",
      " 5   loan_grade                  28638 non-null  object \n",
      " 6   loan_amnt                   28638 non-null  int32  \n",
      " 7   loan_int_rate               28638 non-null  float64\n",
      " 8   loan_status                 28638 non-null  int32  \n",
      " 9   loan_percent_income         28638 non-null  float64\n",
      " 10  cb_person_default_on_file   28638 non-null  object \n",
      " 11  cb_person_cred_hist_length  28638 non-null  int32  \n",
      "dtypes: float64(3), int32(5), object(4)\n",
      "memory usage: 2.3+ MB\n"
     ]
    }
   ],
   "source": [
    "credit_df.info()"
   ]
  },
  {
   "cell_type": "code",
   "execution_count": 8,
   "metadata": {},
   "outputs": [],
   "source": [
    "\n",
    "# Convert categorical data to numeric\n",
    "df_credit= pd.get_dummies(credit_df)"
   ]
  },
  {
   "cell_type": "code",
   "execution_count": 9,
   "metadata": {},
   "outputs": [],
   "source": [
    "df_prep = df_credit.drop(\"loan_status\", axis = 1)"
   ]
  },
  {
   "cell_type": "code",
   "execution_count": 10,
   "metadata": {},
   "outputs": [],
   "source": [
    "# Split data into features and target arrays\n",
    "X = df_prep\n",
    "y = credit_df[\"loan_status\"]\n"
   ]
  },
  {
   "cell_type": "code",
   "execution_count": 11,
   "metadata": {},
   "outputs": [],
   "source": [
    "X_train, X_test, y_train, y_test = train_test_split(X, y, test_size=0.25, random_state=42)"
   ]
  },
  {
   "cell_type": "code",
   "execution_count": 12,
   "metadata": {},
   "outputs": [],
   "source": [
    "# Create a StandardScaler instance\n",
    "scaler = StandardScaler()\n",
    "\n",
    "#Fit and scale the data\n",
    "X_train_scaled = scaler.fit_transform(X_train)\n",
    "X_test_scaled = scaler.transform(X_test)"
   ]
  },
  {
   "cell_type": "code",
   "execution_count": 13,
   "metadata": {},
   "outputs": [
    {
     "name": "stdout",
     "output_type": "stream",
     "text": [
      "Model: \"sequential\"\n",
      "_________________________________________________________________\n",
      " Layer (type)                Output Shape              Param #   \n",
      "=================================================================\n",
      " dense (Dense)               (None, 64)                1728      \n",
      "                                                                 \n",
      " dense_1 (Dense)             (None, 32)                2080      \n",
      "                                                                 \n",
      " dense_2 (Dense)             (None, 1)                 33        \n",
      "                                                                 \n",
      "=================================================================\n",
      "Total params: 3841 (15.00 KB)\n",
      "Trainable params: 3841 (15.00 KB)\n",
      "Non-trainable params: 0 (0.00 Byte)\n",
      "_________________________________________________________________\n"
     ]
    }
   ],
   "source": [
    "\n",
    "#  Define the model\n",
    "model = Sequential()\n",
    "\n",
    "# The number of input features and hidden nodes for each layer\n",
    "hidden_nodes_1 = 64\n",
    "hidden_nodes_2 = 32\n",
    "\n",
    "# First Layer\n",
    "model.add(Dense(units = hidden_nodes_1, input_dim=X_train_scaled.shape[1], activation='relu'))\n",
    "#Second Layer\n",
    "model.add(Dense(units = hidden_nodes_2, activation='relu'))\n",
    "#Third Layer \n",
    "model.add(Dense(units = 1, activation='linear'))\n",
    "\n",
    "# Check the structure of the model\n",
    "model.summary()"
   ]
  },
  {
   "cell_type": "code",
   "execution_count": 14,
   "metadata": {},
   "outputs": [],
   "source": [
    "# Compile the model\n",
    "model.compile(loss='binary_crossentropy', optimizer='Adam', metrics=['accuracy'])"
   ]
  },
  {
   "cell_type": "code",
   "execution_count": 15,
   "metadata": {},
   "outputs": [
    {
     "name": "stdout",
     "output_type": "stream",
     "text": [
      "Epoch 1/25\n",
      "344/344 [==============================] - 1s 1ms/step - loss: 0.7577 - accuracy: 0.8438 - val_loss: 0.6558 - val_accuracy: 0.8636\n",
      "Epoch 2/25\n",
      "344/344 [==============================] - 0s 854us/step - loss: 0.5570 - accuracy: 0.8704 - val_loss: 0.5454 - val_accuracy: 0.8750\n",
      "Epoch 3/25\n",
      "344/344 [==============================] - 0s 784us/step - loss: 0.6549 - accuracy: 0.8716 - val_loss: 0.4934 - val_accuracy: 0.8762\n",
      "Epoch 4/25\n",
      "344/344 [==============================] - 0s 786us/step - loss: 0.4479 - accuracy: 0.8869 - val_loss: 0.6215 - val_accuracy: 0.8729\n",
      "Epoch 5/25\n",
      "344/344 [==============================] - 0s 776us/step - loss: 0.4259 - accuracy: 0.8856 - val_loss: 0.4307 - val_accuracy: 0.8829\n",
      "Epoch 6/25\n",
      "344/344 [==============================] - 0s 824us/step - loss: 0.3948 - accuracy: 0.8926 - val_loss: 0.4107 - val_accuracy: 0.8873\n",
      "Epoch 7/25\n",
      "344/344 [==============================] - 0s 826us/step - loss: 0.3961 - accuracy: 0.8811 - val_loss: 0.4831 - val_accuracy: 0.8392\n",
      "Epoch 8/25\n",
      "344/344 [==============================] - 0s 815us/step - loss: 0.3738 - accuracy: 0.8874 - val_loss: 0.3575 - val_accuracy: 0.8911\n",
      "Epoch 9/25\n",
      "344/344 [==============================] - 0s 817us/step - loss: 0.4354 - accuracy: 0.8918 - val_loss: 0.6086 - val_accuracy: 0.8743\n",
      "Epoch 10/25\n",
      "344/344 [==============================] - 0s 869us/step - loss: 0.4033 - accuracy: 0.8900 - val_loss: 0.6334 - val_accuracy: 0.8757\n",
      "Epoch 11/25\n",
      "344/344 [==============================] - 0s 843us/step - loss: 0.4184 - accuracy: 0.8907 - val_loss: 0.3790 - val_accuracy: 0.8815\n",
      "Epoch 12/25\n",
      "344/344 [==============================] - 0s 812us/step - loss: 0.4255 - accuracy: 0.8512 - val_loss: 0.4551 - val_accuracy: 0.8273\n",
      "Epoch 13/25\n",
      "344/344 [==============================] - 0s 820us/step - loss: 0.4139 - accuracy: 0.8638 - val_loss: 0.4703 - val_accuracy: 0.8289\n",
      "Epoch 14/25\n",
      "344/344 [==============================] - 0s 798us/step - loss: 0.3793 - accuracy: 0.8725 - val_loss: 0.3796 - val_accuracy: 0.8843\n",
      "Epoch 15/25\n",
      "344/344 [==============================] - 0s 765us/step - loss: 0.3362 - accuracy: 0.8905 - val_loss: 0.3522 - val_accuracy: 0.8922\n",
      "Epoch 16/25\n",
      "344/344 [==============================] - 0s 787us/step - loss: 0.3395 - accuracy: 0.8877 - val_loss: 0.3358 - val_accuracy: 0.8880\n",
      "Epoch 17/25\n",
      "344/344 [==============================] - 0s 1ms/step - loss: 0.3308 - accuracy: 0.8909 - val_loss: 0.3345 - val_accuracy: 0.8932\n",
      "Epoch 18/25\n",
      "344/344 [==============================] - 0s 961us/step - loss: 0.3267 - accuracy: 0.8969 - val_loss: 0.3143 - val_accuracy: 0.8971\n",
      "Epoch 19/25\n",
      "344/344 [==============================] - 0s 841us/step - loss: 0.2985 - accuracy: 0.9019 - val_loss: 0.3098 - val_accuracy: 0.9018\n",
      "Epoch 20/25\n",
      "344/344 [==============================] - 0s 998us/step - loss: 0.3688 - accuracy: 0.8762 - val_loss: 0.3572 - val_accuracy: 0.8943\n",
      "Epoch 21/25\n",
      "344/344 [==============================] - 0s 819us/step - loss: 0.3160 - accuracy: 0.9018 - val_loss: 0.3355 - val_accuracy: 0.8997\n",
      "Epoch 22/25\n",
      "344/344 [==============================] - 0s 828us/step - loss: 0.3064 - accuracy: 0.9051 - val_loss: 0.3310 - val_accuracy: 0.9046\n",
      "Epoch 23/25\n",
      "344/344 [==============================] - 0s 793us/step - loss: 0.2981 - accuracy: 0.9064 - val_loss: 0.3282 - val_accuracy: 0.9013\n",
      "Epoch 24/25\n",
      "344/344 [==============================] - 0s 798us/step - loss: 0.2932 - accuracy: 0.9049 - val_loss: 0.3178 - val_accuracy: 0.9020\n",
      "Epoch 25/25\n",
      "344/344 [==============================] - 0s 835us/step - loss: 0.2811 - accuracy: 0.9080 - val_loss: 0.3095 - val_accuracy: 0.9043\n"
     ]
    },
    {
     "data": {
      "text/plain": [
       "<keras.src.callbacks.History at 0x16fee4210>"
      ]
     },
     "execution_count": 15,
     "metadata": {},
     "output_type": "execute_result"
    }
   ],
   "source": [
    "# Train the model\n",
    "model.fit(X_train_scaled, y_train, epochs=25, batch_size=50, validation_split=0.2, verbose=1)\n"
   ]
  },
  {
   "cell_type": "code",
   "execution_count": 16,
   "metadata": {},
   "outputs": [
    {
     "name": "stdout",
     "output_type": "stream",
     "text": [
      "224/224 [==============================] - 0s 538us/step - loss: 0.3123 - accuracy: 0.8973\n",
      "Accuracy =  0.8973463773727417\n"
     ]
    }
   ],
   "source": [
    "# Evaluate the model\n",
    "model_loss, model_accuracy = model.evaluate(X_test_scaled, y_test)\n",
    "print(\"Accuracy = \", model_accuracy)"
   ]
  },
  {
   "cell_type": "code",
   "execution_count": 17,
   "metadata": {},
   "outputs": [],
   "source": [
    "# Convert X_test to float\n",
    "X_test = X_test.astype(float)"
   ]
  },
  {
   "cell_type": "code",
   "execution_count": 18,
   "metadata": {},
   "outputs": [
    {
     "name": "stdout",
     "output_type": "stream",
     "text": [
      "224/224 [==============================] - 0s 445us/step\n"
     ]
    }
   ],
   "source": [
    "# Make predictions\n",
    "y_pred = model.predict(X_test)"
   ]
  },
  {
   "cell_type": "code",
   "execution_count": 19,
   "metadata": {},
   "outputs": [
    {
     "name": "stdout",
     "output_type": "stream",
     "text": [
      "0.7777932960893855\n"
     ]
    }
   ],
   "source": [
    "# Check accuracy\n",
    "\n",
    "categorical_predictions = np.argmax(y_pred, axis=1)\n",
    "\n",
    "accuracy = accuracy_score(y_test, categorical_predictions)\n",
    "\n",
    "print(accuracy)"
   ]
  }
 ],
 "metadata": {
  "kernelspec": {
   "display_name": "dev",
   "language": "python",
   "name": "python3"
  },
  "language_info": {
   "codemirror_mode": {
    "name": "ipython",
    "version": 3
   },
   "file_extension": ".py",
   "mimetype": "text/x-python",
   "name": "python",
   "nbconvert_exporter": "python",
   "pygments_lexer": "ipython3",
   "version": "3.11.7"
  }
 },
 "nbformat": 4,
 "nbformat_minor": 2
}
