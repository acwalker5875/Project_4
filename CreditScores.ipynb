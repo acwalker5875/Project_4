{
 "cells": [
  {
   "cell_type": "code",
   "execution_count": 63,
   "metadata": {},
   "outputs": [],
   "source": [
    "import pandas as pd\n",
    "import numpy as np\n",
    "from pathlib import Path\n",
    "import matplotlib.pyplot as plt\n",
    "from sklearn.model_selection import train_test_split\n",
    "from sklearn.preprocessing import StandardScaler\n",
    "import findspark\n",
    "findspark.init()\n",
    "from pyspark.sql import SparkSession\n",
    "import tensorflow as tf \n",
    "from tensorflow.keras import Sequential"
   ]
  },
  {
   "cell_type": "code",
   "execution_count": 4,
   "metadata": {},
   "outputs": [
    {
     "name": "stderr",
     "output_type": "stream",
     "text": [
      "24/03/04 20:13:41 WARN Utils: Your hostname, Aarons-MacBook-Pro.local resolves to a loopback address: 127.0.0.1; using 192.168.1.5 instead (on interface en0)\n",
      "24/03/04 20:13:41 WARN Utils: Set SPARK_LOCAL_IP if you need to bind to another address\n",
      "Setting default log level to \"WARN\".\n",
      "To adjust logging level use sc.setLogLevel(newLevel). For SparkR, use setLogLevel(newLevel).\n",
      "24/03/04 20:13:44 WARN NativeCodeLoader: Unable to load native-hadoop library for your platform... using builtin-java classes where applicable\n"
     ]
    }
   ],
   "source": [
    "spark = SparkSession.builder.appName(\"Read CSV\").getOrCreate()\n"
   ]
  },
  {
   "cell_type": "code",
   "execution_count": 9,
   "metadata": {},
   "outputs": [],
   "source": [
    "file_path = \"Credit_Score_Data/Credit.csv\"\n"
   ]
  },
  {
   "cell_type": "code",
   "execution_count": 13,
   "metadata": {},
   "outputs": [
    {
     "name": "stdout",
     "output_type": "stream",
     "text": [
      "+----+-----------+-----+---------------+----+------------+----------+-------------+---------------------+-----------------+---------------+-------------+-----------+--------------------+-------------------+----------------------+--------------------+--------------------+----------+----------------+------------------------+------------------+---------------------+-------------------+-----------------------+--------------------+------------------+------------+\n",
      "|  ID|Customer_ID|Month|           Name| Age|         SSN|Occupation|Annual_Income|Monthly_Inhand_Salary|Num_Bank_Accounts|Num_Credit_Card|Interest_Rate|Num_of_Loan|        Type_of_Loan|Delay_from_due_date|Num_of_Delayed_Payment|Changed_Credit_Limit|Num_Credit_Inquiries|Credit_Mix|Outstanding_Debt|Credit_Utilization_Ratio|Credit_History_Age|Payment_of_Min_Amount|Total_EMI_per_month|Amount_invested_monthly|   Payment_Behaviour|   Monthly_Balance|Credit_Score|\n",
      "+----+-----------+-----+---------------+----+------------+----------+-------------+---------------------+-----------------+---------------+-------------+-----------+--------------------+-------------------+----------------------+--------------------+--------------------+----------+----------------+------------------------+------------------+---------------------+-------------------+-----------------------+--------------------+------------------+------------+\n",
      "|5634|       3392|    1|  Aaron Maashoh|23.0|8.21000265E8| Scientist|     19114.12|   1824.8433333333328|              3.0|            4.0|          3.0|        4.0|Auto Loan, Credit...|                3.0|                   7.0|               11.27|                 4.0|      Good|          809.98|      26.822619623699016|             265.0|                   No|  49.57494921489417|     21.465380264657146|High_spent_Small_...|312.49408867943663|        Good|\n",
      "|5635|       3392|    2|  Aaron Maashoh|23.0|8.21000265E8| Scientist|     19114.12|   1824.8433333333328|              3.0|            4.0|          3.0|        4.0|Auto Loan, Credit...|                3.0|                   4.0|               11.27|                 4.0|      Good|          809.98|       31.94496005538421|             266.0|                   No|  49.57494921489417|     21.465380264657146|Low_spent_Large_v...|284.62916249607184|        Good|\n",
      "|5636|       3392|    3|  Aaron Maashoh|23.0|8.21000265E8| Scientist|     19114.12|   1824.8433333333328|              3.0|            4.0|          3.0|        4.0|Auto Loan, Credit...|                3.0|                   7.0|               11.27|                 4.0|      Good|          809.98|       28.60935202206993|             267.0|                   No|  49.57494921489417|     21.465380264657146|Low_spent_Medium_...| 331.2098628537912|        Good|\n",
      "|5637|       3392|    4|  Aaron Maashoh|23.0|8.21000265E8| Scientist|     19114.12|   1824.8433333333328|              3.0|            4.0|          3.0|        4.0|Auto Loan, Credit...|                5.0|                   4.0|                6.27|                 4.0|      Good|          809.98|       31.37786186958236|             268.0|                   No|  49.57494921489417|     21.465380264657146|Low_spent_Small_v...|223.45130972736783|        Good|\n",
      "|5638|       3392|    5|  Aaron Maashoh|23.0|8.21000265E8| Scientist|     19114.12|   1824.8433333333328|              3.0|            4.0|          3.0|        4.0|Auto Loan, Credit...|                6.0|                   4.0|               11.27|                 4.0|      Good|          809.98|      24.797346908844982|             269.0|                   No|  49.57494921489417|     21.465380264657146|High_spent_Medium...|341.48923103222177|        Good|\n",
      "|5639|       3392|    6|  Aaron Maashoh|23.0|8.21000265E8| Scientist|     19114.12|   1824.8433333333328|              3.0|            4.0|          3.0|        4.0|Auto Loan, Credit...|                8.0|                   4.0|                9.27|                 4.0|      Good|          809.98|       27.26225871052017|             270.0|                   No|  49.57494921489417|     21.465380264657146|High_spent_Medium...| 340.4792117872438|        Good|\n",
      "|5640|       3392|    7|  Aaron Maashoh|23.0|8.21000265E8| Scientist|     19114.12|   1824.8433333333328|              3.0|            4.0|          3.0|        4.0|Auto Loan, Credit...|                3.0|                   8.0|               11.27|                 4.0|      Good|          809.98|       22.53759303178384|             271.0|                   No|  49.57494921489417|     21.465380264657146|Low_spent_Small_v...| 244.5653167062043|        Good|\n",
      "|5641|       3392|    8|  Aaron Maashoh|23.0|8.21000265E8| Scientist|     19114.12|   1824.8433333333328|              3.0|            4.0|          3.0|        4.0|Auto Loan, Credit...|                3.0|                   6.0|               11.27|                 4.0|      Good|          809.98|       23.93379480196552|             272.0|                   No|  49.57494921489417|     21.465380264657146|High_spent_Medium...|358.12416760938714|    Standard|\n",
      "|5646|       8625|    1|Rick Rothackerj|28.0|   4075839.0|   Teacher|     34847.84|    3037.986666666666|              2.0|            4.0|          6.0|        1.0| Credit-Builder Loan|                3.0|                   4.0|                5.42|                 2.0|      Good|          605.03|       24.46403063758457|             319.0|                   No| 18.816214573128885|     39.684018417945296|Low_spent_Small_v...|470.69062692529184|    Standard|\n",
      "|5647|       8625|    2|Rick Rothackerj|28.0|   4075839.0|   Teacher|     34847.84|    3037.986666666666|              2.0|            4.0|          6.0|        1.0| Credit-Builder Loan|                7.0|                   1.0|                7.42|                 2.0|      Good|          605.03|      38.550848433956325|             320.0|                   No| 18.816214573128885|     39.684018417945296|High_spent_Large_...| 484.5912142650067|        Good|\n",
      "|5648|       8625|    3|Rick Rothackerj|28.0|   4075839.0|   Teacher|     34847.84|    3037.986666666666|              2.0|            4.0|          6.0|        1.0| Credit-Builder Loan|                3.0|                   1.0|                5.42|                 2.0|      Good|          605.03|       33.22495078663659|             321.0|                   No| 18.816214573128885|     39.684018417945296|High_spent_Large_...|466.46647639764313|    Standard|\n",
      "|5649|       8625|    4|Rick Rothackerj|28.0|   4075839.0|   Teacher|     34847.84|    3037.986666666666|              2.0|            4.0|          6.0|        1.0| Credit-Builder Loan|                3.0|                   3.0|                5.42|                 2.0|      Good|          605.03|       39.18265565546884|             322.0|                   No| 18.816214573128885|     39.684018417945296|Low_spent_Medium_...| 465.6762241330048|        Good|\n",
      "|5650|       8625|    5|Rick Rothackerj|28.0|   4075839.0|   Teacher|     34847.84|    3037.986666666666|              2.0|            4.0|          6.0|        1.0| Credit-Builder Loan|                3.0|                   1.0|                6.42|                 2.0|      Good|          605.03|       34.97789474709241|             323.0|                   No| 18.816214573128885|     39.684018417945296|Low_spent_Small_v...| 444.8670318506144|        Good|\n",
      "|5651|       8625|    6|Rick Rothackerj|28.0|   4075839.0|   Teacher|     34847.84|    3037.986666666666|              2.0|            4.0|          6.0|        1.0| Credit-Builder Loan|                3.0|                   0.0|                5.42|                 2.0|      Good|          605.03|       33.38101020065065|             324.0|                   No| 18.816214573128885|     39.684018417945296|High_spent_Large_...|  481.505261949182|        Good|\n",
      "|5652|       8625|    7|Rick Rothackerj|28.0|   4075839.0|   Teacher|     34847.84|    3037.986666666666|              2.0|            4.0|          6.0|        1.0| Credit-Builder Loan|                3.0|                   4.0|                5.42|                 2.0|      Good|          605.03|      31.131701611553307|             325.0|                   NM| 18.816214573128885|     39.684018417945296|High_spent_Medium...| 464.8806778859809|        Good|\n",
      "|5653|       8625|    8|Rick Rothackerj|28.0|   4075839.0|   Teacher|     34847.84|    3037.986666666666|              2.0|            4.0|          6.0|        1.0| Credit-Builder Loan|                3.0|                   4.0|                5.42|                 2.0|      Good|          605.03|      32.933856293622235|             326.0|                   No| 18.816214573128885|     39.684018417945296|Low_spent_Small_v...|356.07810855965045|        Good|\n",
      "|5658|      11708|    1|         Langep|34.0|4.86853974E8|  Engineer|    143162.64|             12187.22|              1.0|            5.0|          8.0|        3.0|Auto Loan, Auto L...|                5.0|                   8.0|                 7.1|                 3.0|      Good|         1303.01|      28.616734823006844|             213.0|                   No|  246.9923194537421|       168.413702679309|High_spent_Small_...|1043.3159778669492|        Good|\n",
      "|5659|      11708|    2|         Langep|34.0|4.86853974E8|  Engineer|    143162.64|             12187.22|              1.0|            5.0|          8.0|        3.0|Auto Loan, Auto L...|               13.0|                   6.0|                 7.1|                 3.0|      Good|         1303.01|       41.70257342393906|             214.0|                   No|  246.9923194537421|       168.413702679309|High_spent_Small_...| 998.8692967863226|        Good|\n",
      "|5660|      11708|    3|         Langep|34.0|4.86853974E8|  Engineer|    143162.64|             12187.22|              1.0|            5.0|          8.0|        3.0|Auto Loan, Auto L...|                8.0|                   7.0|                11.1|                 3.0|      Good|         1303.01|       26.51981539154649|             215.0|                   No|  246.9923194537421|       168.413702679309|High_spent_Small_...|  715.741367403555|        Good|\n",
      "|5661|      11708|    4|         Langep|34.0|4.86853974E8|  Engineer|    143162.64|             12187.22|              1.0|            5.0|          8.0|        3.0|Auto Loan, Auto L...|                8.0|                   5.0|                 9.1|                 3.0|      Good|         1303.01|       39.50164810812735|             216.0|                   No|  246.9923194537421|       168.413702679309|Low_spent_Medium_...| 426.5134106068658|        Good|\n",
      "+----+-----------+-----+---------------+----+------------+----------+-------------+---------------------+-----------------+---------------+-------------+-----------+--------------------+-------------------+----------------------+--------------------+--------------------+----------+----------------+------------------------+------------------+---------------------+-------------------+-----------------------+--------------------+------------------+------------+\n",
      "only showing top 20 rows\n",
      "\n"
     ]
    }
   ],
   "source": [
    "df = spark.read.csv(file_path, header=True, inferSchema=True, sep=\",\")\n",
    "\n",
    "df.show()"
   ]
  },
  {
   "cell_type": "code",
   "execution_count": 14,
   "metadata": {},
   "outputs": [
    {
     "name": "stderr",
     "output_type": "stream",
     "text": [
      "                                                                                \r"
     ]
    },
    {
     "data": {
      "text/html": [
       "<div>\n",
       "<style scoped>\n",
       "    .dataframe tbody tr th:only-of-type {\n",
       "        vertical-align: middle;\n",
       "    }\n",
       "\n",
       "    .dataframe tbody tr th {\n",
       "        vertical-align: top;\n",
       "    }\n",
       "\n",
       "    .dataframe thead th {\n",
       "        text-align: right;\n",
       "    }\n",
       "</style>\n",
       "<table border=\"1\" class=\"dataframe\">\n",
       "  <thead>\n",
       "    <tr style=\"text-align: right;\">\n",
       "      <th></th>\n",
       "      <th>ID</th>\n",
       "      <th>Customer_ID</th>\n",
       "      <th>Month</th>\n",
       "      <th>Name</th>\n",
       "      <th>Age</th>\n",
       "      <th>SSN</th>\n",
       "      <th>Occupation</th>\n",
       "      <th>Annual_Income</th>\n",
       "      <th>Monthly_Inhand_Salary</th>\n",
       "      <th>Num_Bank_Accounts</th>\n",
       "      <th>...</th>\n",
       "      <th>Credit_Mix</th>\n",
       "      <th>Outstanding_Debt</th>\n",
       "      <th>Credit_Utilization_Ratio</th>\n",
       "      <th>Credit_History_Age</th>\n",
       "      <th>Payment_of_Min_Amount</th>\n",
       "      <th>Total_EMI_per_month</th>\n",
       "      <th>Amount_invested_monthly</th>\n",
       "      <th>Payment_Behaviour</th>\n",
       "      <th>Monthly_Balance</th>\n",
       "      <th>Credit_Score</th>\n",
       "    </tr>\n",
       "  </thead>\n",
       "  <tbody>\n",
       "    <tr>\n",
       "      <th>0</th>\n",
       "      <td>5634</td>\n",
       "      <td>3392</td>\n",
       "      <td>1</td>\n",
       "      <td>Aaron Maashoh</td>\n",
       "      <td>23.0</td>\n",
       "      <td>821000265.0</td>\n",
       "      <td>Scientist</td>\n",
       "      <td>19114.12</td>\n",
       "      <td>1824.843333</td>\n",
       "      <td>3.0</td>\n",
       "      <td>...</td>\n",
       "      <td>Good</td>\n",
       "      <td>809.98</td>\n",
       "      <td>26.822620</td>\n",
       "      <td>265.0</td>\n",
       "      <td>No</td>\n",
       "      <td>49.574949</td>\n",
       "      <td>21.46538</td>\n",
       "      <td>High_spent_Small_value_payments</td>\n",
       "      <td>312.494089</td>\n",
       "      <td>Good</td>\n",
       "    </tr>\n",
       "    <tr>\n",
       "      <th>1</th>\n",
       "      <td>5635</td>\n",
       "      <td>3392</td>\n",
       "      <td>2</td>\n",
       "      <td>Aaron Maashoh</td>\n",
       "      <td>23.0</td>\n",
       "      <td>821000265.0</td>\n",
       "      <td>Scientist</td>\n",
       "      <td>19114.12</td>\n",
       "      <td>1824.843333</td>\n",
       "      <td>3.0</td>\n",
       "      <td>...</td>\n",
       "      <td>Good</td>\n",
       "      <td>809.98</td>\n",
       "      <td>31.944960</td>\n",
       "      <td>266.0</td>\n",
       "      <td>No</td>\n",
       "      <td>49.574949</td>\n",
       "      <td>21.46538</td>\n",
       "      <td>Low_spent_Large_value_payments</td>\n",
       "      <td>284.629162</td>\n",
       "      <td>Good</td>\n",
       "    </tr>\n",
       "    <tr>\n",
       "      <th>2</th>\n",
       "      <td>5636</td>\n",
       "      <td>3392</td>\n",
       "      <td>3</td>\n",
       "      <td>Aaron Maashoh</td>\n",
       "      <td>23.0</td>\n",
       "      <td>821000265.0</td>\n",
       "      <td>Scientist</td>\n",
       "      <td>19114.12</td>\n",
       "      <td>1824.843333</td>\n",
       "      <td>3.0</td>\n",
       "      <td>...</td>\n",
       "      <td>Good</td>\n",
       "      <td>809.98</td>\n",
       "      <td>28.609352</td>\n",
       "      <td>267.0</td>\n",
       "      <td>No</td>\n",
       "      <td>49.574949</td>\n",
       "      <td>21.46538</td>\n",
       "      <td>Low_spent_Medium_value_payments</td>\n",
       "      <td>331.209863</td>\n",
       "      <td>Good</td>\n",
       "    </tr>\n",
       "    <tr>\n",
       "      <th>3</th>\n",
       "      <td>5637</td>\n",
       "      <td>3392</td>\n",
       "      <td>4</td>\n",
       "      <td>Aaron Maashoh</td>\n",
       "      <td>23.0</td>\n",
       "      <td>821000265.0</td>\n",
       "      <td>Scientist</td>\n",
       "      <td>19114.12</td>\n",
       "      <td>1824.843333</td>\n",
       "      <td>3.0</td>\n",
       "      <td>...</td>\n",
       "      <td>Good</td>\n",
       "      <td>809.98</td>\n",
       "      <td>31.377862</td>\n",
       "      <td>268.0</td>\n",
       "      <td>No</td>\n",
       "      <td>49.574949</td>\n",
       "      <td>21.46538</td>\n",
       "      <td>Low_spent_Small_value_payments</td>\n",
       "      <td>223.451310</td>\n",
       "      <td>Good</td>\n",
       "    </tr>\n",
       "    <tr>\n",
       "      <th>4</th>\n",
       "      <td>5638</td>\n",
       "      <td>3392</td>\n",
       "      <td>5</td>\n",
       "      <td>Aaron Maashoh</td>\n",
       "      <td>23.0</td>\n",
       "      <td>821000265.0</td>\n",
       "      <td>Scientist</td>\n",
       "      <td>19114.12</td>\n",
       "      <td>1824.843333</td>\n",
       "      <td>3.0</td>\n",
       "      <td>...</td>\n",
       "      <td>Good</td>\n",
       "      <td>809.98</td>\n",
       "      <td>24.797347</td>\n",
       "      <td>269.0</td>\n",
       "      <td>No</td>\n",
       "      <td>49.574949</td>\n",
       "      <td>21.46538</td>\n",
       "      <td>High_spent_Medium_value_payments</td>\n",
       "      <td>341.489231</td>\n",
       "      <td>Good</td>\n",
       "    </tr>\n",
       "  </tbody>\n",
       "</table>\n",
       "<p>5 rows × 28 columns</p>\n",
       "</div>"
      ],
      "text/plain": [
       "     ID  Customer_ID  Month           Name   Age          SSN Occupation  \\\n",
       "0  5634         3392      1  Aaron Maashoh  23.0  821000265.0  Scientist   \n",
       "1  5635         3392      2  Aaron Maashoh  23.0  821000265.0  Scientist   \n",
       "2  5636         3392      3  Aaron Maashoh  23.0  821000265.0  Scientist   \n",
       "3  5637         3392      4  Aaron Maashoh  23.0  821000265.0  Scientist   \n",
       "4  5638         3392      5  Aaron Maashoh  23.0  821000265.0  Scientist   \n",
       "\n",
       "   Annual_Income  Monthly_Inhand_Salary  Num_Bank_Accounts  ...  Credit_Mix  \\\n",
       "0       19114.12            1824.843333                3.0  ...        Good   \n",
       "1       19114.12            1824.843333                3.0  ...        Good   \n",
       "2       19114.12            1824.843333                3.0  ...        Good   \n",
       "3       19114.12            1824.843333                3.0  ...        Good   \n",
       "4       19114.12            1824.843333                3.0  ...        Good   \n",
       "\n",
       "   Outstanding_Debt  Credit_Utilization_Ratio Credit_History_Age  \\\n",
       "0            809.98                 26.822620              265.0   \n",
       "1            809.98                 31.944960              266.0   \n",
       "2            809.98                 28.609352              267.0   \n",
       "3            809.98                 31.377862              268.0   \n",
       "4            809.98                 24.797347              269.0   \n",
       "\n",
       "   Payment_of_Min_Amount  Total_EMI_per_month  Amount_invested_monthly  \\\n",
       "0                     No            49.574949                 21.46538   \n",
       "1                     No            49.574949                 21.46538   \n",
       "2                     No            49.574949                 21.46538   \n",
       "3                     No            49.574949                 21.46538   \n",
       "4                     No            49.574949                 21.46538   \n",
       "\n",
       "                  Payment_Behaviour Monthly_Balance  Credit_Score  \n",
       "0   High_spent_Small_value_payments      312.494089          Good  \n",
       "1    Low_spent_Large_value_payments      284.629162          Good  \n",
       "2   Low_spent_Medium_value_payments      331.209863          Good  \n",
       "3    Low_spent_Small_value_payments      223.451310          Good  \n",
       "4  High_spent_Medium_value_payments      341.489231          Good  \n",
       "\n",
       "[5 rows x 28 columns]"
      ]
     },
     "execution_count": 14,
     "metadata": {},
     "output_type": "execute_result"
    }
   ],
   "source": [
    "credit_df= df.toPandas()\n",
    "\n",
    "credit_df.head()"
   ]
  },
  {
   "cell_type": "code",
   "execution_count": 15,
   "metadata": {},
   "outputs": [],
   "source": [
    "spark.stop()"
   ]
  },
  {
   "cell_type": "code",
   "execution_count": 22,
   "metadata": {},
   "outputs": [
    {
     "name": "stdout",
     "output_type": "stream",
     "text": [
      "<class 'pandas.core.frame.DataFrame'>\n",
      "RangeIndex: 100000 entries, 0 to 99999\n",
      "Data columns (total 28 columns):\n",
      " #   Column                    Non-Null Count   Dtype  \n",
      "---  ------                    --------------   -----  \n",
      " 0   ID                        100000 non-null  int32  \n",
      " 1   Customer_ID               100000 non-null  int32  \n",
      " 2   Month                     100000 non-null  int32  \n",
      " 3   Name                      100000 non-null  object \n",
      " 4   Age                       100000 non-null  float64\n",
      " 5   SSN                       100000 non-null  float64\n",
      " 6   Occupation                100000 non-null  object \n",
      " 7   Annual_Income             100000 non-null  float64\n",
      " 8   Monthly_Inhand_Salary     100000 non-null  float64\n",
      " 9   Num_Bank_Accounts         100000 non-null  float64\n",
      " 10  Num_Credit_Card           100000 non-null  float64\n",
      " 11  Interest_Rate             100000 non-null  float64\n",
      " 12  Num_of_Loan               100000 non-null  float64\n",
      " 13  Type_of_Loan              100000 non-null  object \n",
      " 14  Delay_from_due_date       100000 non-null  float64\n",
      " 15  Num_of_Delayed_Payment    100000 non-null  float64\n",
      " 16  Changed_Credit_Limit      100000 non-null  float64\n",
      " 17  Num_Credit_Inquiries      100000 non-null  float64\n",
      " 18  Credit_Mix                100000 non-null  object \n",
      " 19  Outstanding_Debt          100000 non-null  float64\n",
      " 20  Credit_Utilization_Ratio  100000 non-null  float64\n",
      " 21  Credit_History_Age        100000 non-null  float64\n",
      " 22  Payment_of_Min_Amount     100000 non-null  object \n",
      " 23  Total_EMI_per_month       100000 non-null  float64\n",
      " 24  Amount_invested_monthly   100000 non-null  float64\n",
      " 25  Payment_Behaviour         100000 non-null  object \n",
      " 26  Monthly_Balance           100000 non-null  float64\n",
      " 27  Credit_Score              100000 non-null  object \n",
      "dtypes: float64(18), int32(3), object(7)\n",
      "memory usage: 20.2+ MB\n"
     ]
    }
   ],
   "source": [
    "credit_df.info()"
   ]
  },
  {
   "cell_type": "code",
   "execution_count": 50,
   "metadata": {},
   "outputs": [],
   "source": [
    "credit_df['Payment_of_Min_Amount'] = credit_df['Payment_of_Min_Amount']. apply(lambda x:1 if x== 'yes' else 0)"
   ]
  },
  {
   "cell_type": "code",
   "execution_count": 53,
   "metadata": {},
   "outputs": [],
   "source": [
    "non_numeric = ['Name','Occupation','Type_of_Loan','Credit_Mix','Payment_Behaviour','Credit_Score']"
   ]
  },
  {
   "cell_type": "code",
   "execution_count": 54,
   "metadata": {},
   "outputs": [],
   "source": [
    "df_numeric = credit_df.drop(columns= non_numeric)"
   ]
  },
  {
   "cell_type": "code",
   "execution_count": 55,
   "metadata": {},
   "outputs": [],
   "source": [
    "X = df_numeric\n",
    "y = credit_df['Credit_Score']\n"
   ]
  },
  {
   "cell_type": "code",
   "execution_count": 56,
   "metadata": {},
   "outputs": [],
   "source": [
    "df_catigorical= credit_df[non_numeric]"
   ]
  },
  {
   "cell_type": "code",
   "execution_count": 57,
   "metadata": {},
   "outputs": [],
   "source": [
    "df_catigorical = pd.get_dummies(df_catigorical)"
   ]
  },
  {
   "cell_type": "code",
   "execution_count": 58,
   "metadata": {},
   "outputs": [],
   "source": [
    "X= pd.concat([X, df_catigorical], axis=1)"
   ]
  },
  {
   "cell_type": "code",
   "execution_count": 59,
   "metadata": {},
   "outputs": [],
   "source": [
    "X_train, X_test, y_train, y_test = train_test_split(X, y, test_size=0.2, random_state=42)"
   ]
  },
  {
   "cell_type": "code",
   "execution_count": 60,
   "metadata": {},
   "outputs": [],
   "source": [
    "scaler = StandardScaler()\n",
    "X_train_scaled = scaler.fit_transform(X_train)\n",
    "X_test_scaled = scaler.transform(X_test)"
   ]
  },
  {
   "cell_type": "code",
   "execution_count": 64,
   "metadata": {},
   "outputs": [
    {
     "ename": "NameError",
     "evalue": "name 'Dense' is not defined",
     "output_type": "error",
     "traceback": [
      "\u001b[0;31m---------------------------------------------------------------------------\u001b[0m",
      "\u001b[0;31mNameError\u001b[0m                                 Traceback (most recent call last)",
      "Cell \u001b[0;32mIn[64], line 2\u001b[0m\n\u001b[1;32m      1\u001b[0m model \u001b[38;5;241m=\u001b[39m Sequential()\n\u001b[0;32m----> 2\u001b[0m model\u001b[38;5;241m.\u001b[39madd(\u001b[43mDense\u001b[49m(\u001b[38;5;241m64\u001b[39m, input_dim\u001b[38;5;241m=\u001b[39mX_train_scaled\u001b[38;5;241m.\u001b[39mshape[\u001b[38;5;241m1\u001b[39m], activation\u001b[38;5;241m=\u001b[39m\u001b[38;5;124m'\u001b[39m\u001b[38;5;124mrelu\u001b[39m\u001b[38;5;124m'\u001b[39m))\n\u001b[1;32m      3\u001b[0m model\u001b[38;5;241m.\u001b[39madd(Dense(\u001b[38;5;241m32\u001b[39m, activation\u001b[38;5;241m=\u001b[39m\u001b[38;5;124m'\u001b[39m\u001b[38;5;124mrelu\u001b[39m\u001b[38;5;124m'\u001b[39m))\n\u001b[1;32m      4\u001b[0m model\u001b[38;5;241m.\u001b[39madd(Dense(\u001b[38;5;241m1\u001b[39m, activation\u001b[38;5;241m=\u001b[39m\u001b[38;5;124m'\u001b[39m\u001b[38;5;124mlinear\u001b[39m\u001b[38;5;124m'\u001b[39m))\n",
      "\u001b[0;31mNameError\u001b[0m: name 'Dense' is not defined"
     ]
    }
   ],
   "source": [
    "model = Sequential()\n",
    "model.add(Dense(64, input_dim=X_train_scaled.shape[1], activation='relu'))\n",
    "model.add(Dense(32, activation='relu'))\n",
    "model.add(Dense(1, activation='linear'))"
   ]
  }
 ],
 "metadata": {
  "kernelspec": {
   "display_name": "dev",
   "language": "python",
   "name": "python3"
  },
  "language_info": {
   "codemirror_mode": {
    "name": "ipython",
    "version": 3
   },
   "file_extension": ".py",
   "mimetype": "text/x-python",
   "name": "python",
   "nbconvert_exporter": "python",
   "pygments_lexer": "ipython3",
   "version": "3.11.7"
  }
 },
 "nbformat": 4,
 "nbformat_minor": 2
}
